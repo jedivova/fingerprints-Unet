{
 "cells": [
  {
   "cell_type": "code",
   "execution_count": 1,
   "metadata": {},
   "outputs": [],
   "source": [
    "from __future__ import print_function\n",
    "from ipywidgets import interact, interactive, fixed, interact_manual\n",
    "import ipywidgets as widjets\n",
    "\n",
    "import os\n",
    "import time\n",
    "import json\n",
    "import glob\n",
    "from tqdm import tqdm\n",
    "from sys import getsizeof\n",
    "\n",
    "import numpy as np\n",
    "import pandas as pd\n",
    "from scipy.stats import multivariate_normal\n",
    "\n",
    "from skimage.io import imread\n",
    "import matplotlib.pyplot as plt\n",
    "from PIL import Image, ImageChops\n",
    "from skimage.transform import resize\n",
    "\n",
    "import torch\n",
    "import torch.nn as nn\n",
    "import torch.optim as optim\n",
    "import torch.nn.functional as F\n",
    "from torchvision import transforms\n",
    "from torch.utils.data import Dataset, DataLoader"
   ]
  },
  {
   "cell_type": "code",
   "execution_count": 2,
   "metadata": {},
   "outputs": [
    {
     "name": "stdout",
     "output_type": "stream",
     "text": [
      "4067 images loaded\n",
      "4067 dots loaded\n",
      "cropped\n"
     ]
    }
   ],
   "source": [
    "images_list = []\n",
    "for filename in glob.glob('Task/images/*.jpg'):\n",
    "    im=Image.open(filename)\n",
    "    images_list.append(im)\n",
    "print(len(images_list), 'images loaded')\n",
    "\n",
    "points_list = []   # в формате [x,y]\n",
    "for filename in glob.glob('Task/points/*.txt'): #assuming gif\n",
    "    a=np.loadtxt(filename,dtype=np.int32)\n",
    "    points_list.append(a)\n",
    "print(len(points_list), 'dots loaded')\n",
    "\n",
    "def trim(im):\n",
    "    bg = Image.new(im.mode, im.size, 255) #white pixel=255\n",
    "    diff = ImageChops.difference(im, bg)\n",
    "    diff = ImageChops.add(diff, diff, 2.0, -30)\n",
    "    bbox = diff.getbbox()\n",
    "    if bbox:\n",
    "        return im.crop(bbox), np.array(bbox[:2]) #returns x,y\n",
    "    else:\n",
    "        return im, (0,0)\n",
    "\n",
    "for i in range(len(images_list)):\n",
    "    images_list[i], coords = trim(images_list[i])\n",
    "    points_list[i] -= coords\n",
    "print('cropped')"
   ]
  },
  {
   "cell_type": "code",
   "execution_count": 3,
   "metadata": {},
   "outputs": [
    {
     "name": "stdout",
     "output_type": "stream",
     "text": [
      "reverted  33 imgs\n"
     ]
    }
   ],
   "source": [
    "def orient_portrait_style(images_list,points_list):\n",
    "    num_of_reverted = 0\n",
    "    for i in range(len(images_list)):\n",
    "        x,y = images_list[i].size\n",
    "        if x>y:\n",
    "            images_list[i] = Image.fromarray(np.asarray(images_list[i]).T)\n",
    "            points_list[i] = np.roll(points_list[i],1,axis=1)\n",
    "            num_of_reverted += 1\n",
    "    print('reverted ', num_of_reverted, 'imgs')\n",
    "            \n",
    "orient_portrait_style(images_list,points_list)"
   ]
  },
  {
   "cell_type": "code",
   "execution_count": 4,
   "metadata": {},
   "outputs": [
    {
     "name": "stdout",
     "output_type": "stream",
     "text": [
      "resize done to y=400\n"
     ]
    }
   ],
   "source": [
    "#scale to y_new\n",
    "\n",
    "_Y_new = 400\n",
    "for i in range(len(images_list)):\n",
    "    x_old, y_old = images_list[i].size\n",
    "    images_list[i] = images_list[i].resize((int(x_old/y_old * _Y_new),_Y_new), resample=Image.BICUBIC)\n",
    "    points_list[i] = (points_list[i] * _Y_new / y_old).astype(int)\n",
    "print(f'resize done to y={_Y_new}')"
   ]
  },
  {
   "cell_type": "code",
   "execution_count": 5,
   "metadata": {},
   "outputs": [
    {
     "name": "stdout",
     "output_type": "stream",
     "text": [
      "resize to (400, 400) done\n"
     ]
    }
   ],
   "source": [
    "#add white borders to img, to make x==y\n",
    "\n",
    "_NEW_SIZE = (_Y_new, _Y_new) #т.к есть ~квадратные отпечатки\n",
    "for i in range(len(images_list)):\n",
    "    old_im = images_list[i]\n",
    "    new_im = Image.new(\"L\", _NEW_SIZE,255) # same as np.zeros, fill 255\n",
    "    bias = (_NEW_SIZE[0] - old_im.size[0])//2\n",
    "    new_im.paste(old_im, (bias,0)) #помещает в позицию x=bias,y=0\n",
    "    images_list[i] = new_im\n",
    "    points_list[i][:,0] += bias #x+bias\n",
    "print(f'resize to {_NEW_SIZE} done')"
   ]
  },
  {
   "cell_type": "code",
   "execution_count": 126,
   "metadata": {},
   "outputs": [],
   "source": [
    "images_array = np.array([np.array(image) for image in images_list])"
   ]
  },
  {
   "cell_type": "code",
   "execution_count": 9,
   "metadata": {},
   "outputs": [
    {
     "data": {
      "application/vnd.jupyter.widget-view+json": {
       "model_id": "3227755d1d8c476aae03fab8e5d1144c",
       "version_major": 2,
       "version_minor": 0
      },
      "text/plain": [
       "interactive(children=(IntSlider(value=572, description='i', max=4066), Output()), _dom_classes=('widget-intera…"
      ]
     },
     "metadata": {},
     "output_type": "display_data"
    }
   ],
   "source": [
    "#look images with points\n",
    "@interact(i=(0,len(images_list)-1,1))\n",
    "def test_func(i=572):\n",
    "    im = np.array(images_list[i])\n",
    "    points = points_list[i]\n",
    "    a=np.tile(im,(3,1,1))\n",
    "    a=np.moveaxis(a, 0, -1)\n",
    "    for point in points:\n",
    "        x,y = point\n",
    "        a[y-3:y+3,x-3:x+3] = np.array([255,0,0])\n",
    "    print(im.shape)\n",
    "    plt.figure(figsize=[10,10])\n",
    "    plt.imshow(a)"
   ]
  },
  {
   "cell_type": "code",
   "execution_count": 10,
   "metadata": {},
   "outputs": [
    {
     "name": "stdout",
     "output_type": "stream",
     "text": [
      "maximum x,y =  400 400\n",
      "max indexes 0 0\n",
      "mean values 400.0 400.0\n"
     ]
    }
   ],
   "source": [
    "#find max res (чтобы не растягивать не изменять ratio)\n",
    "\n",
    "x_max,y_max = 0,0\n",
    "x_sum,y_sum = 0,0\n",
    "x_max_i,y_max_i = 0,0\n",
    "for i in range(len(images_list)):\n",
    "    y,x = np.array(images_list[i]).shape\n",
    "    x_sum += x\n",
    "    y_sum += y\n",
    "    if x>x_max: \n",
    "        x_max = x\n",
    "        x_max_i = i\n",
    "    if y>y_max:\n",
    "        y_max = y\n",
    "        y_max_i = i\n",
    "print('maximum x,y = ',x_max,y_max)\n",
    "print('max indexes', x_max_i,y_max_i)\n",
    "print('mean values',x_sum/len(images_list),y_sum/len(images_list))"
   ]
  },
  {
   "cell_type": "code",
   "execution_count": 6,
   "metadata": {},
   "outputs": [],
   "source": [
    "x, y = np.mgrid[0:1.0:25j, 0:1.0:25j]\n",
    "xy = np.column_stack([x.flat, y.flat])\n",
    "mask = np.zeros(25 * 25)\n",
    "COV=np.diag([0.03,0.03])\n",
    "Mean=[0.5,0.5]\n",
    "Gauss = multivariate_normal.pdf(xy, mean=Mean, cov=COV)\n",
    "Gauss *= np.sqrt(np.linalg.det(COV)*(2*np.pi)**2)  #normalize to 1(formulae Gauss)\n",
    "Gauss = Gauss.reshape((25, 25))\n",
    "\n",
    "def Get_mask(points):\n",
    "    global Gauss\n",
    "    mask = np.zeros((400,400))\n",
    "    for point in points:\n",
    "        x,y = point\n",
    "        part_of_mask = mask[y-12:y+13,x-12:x+13]\n",
    "        _y, _x = part_of_mask.shape\n",
    "        indexes = part_of_mask < Gauss[:_y,:_x]\n",
    "        part_of_mask[indexes] = Gauss[:_y,:_x][indexes]\n",
    "    return mask\n"
   ]
  },
  {
   "cell_type": "code",
   "execution_count": 16,
   "metadata": {},
   "outputs": [
    {
     "data": {
      "application/vnd.jupyter.widget-view+json": {
       "model_id": "28811f88281744b8bfe2530e8a5322ec",
       "version_major": 2,
       "version_minor": 0
      },
      "text/plain": [
       "interactive(children=(IntSlider(value=24, description='i', max=4067), Output()), _dom_classes=('widget-interac…"
      ]
     },
     "metadata": {},
     "output_type": "display_data"
    }
   ],
   "source": [
    "@interact(i=(0,len(images_list),1))\n",
    "def test_func(i=24):\n",
    "    img = images_list[i]\n",
    "    mask = Get_mask(points_list[i])\n",
    "    plt.subplot(1,2,1)\n",
    "    plt.imshow(img)\n",
    "    plt.subplot(1,2,2)\n",
    "    plt.imshow(mask)"
   ]
  },
  {
   "cell_type": "code",
   "execution_count": 197,
   "metadata": {},
   "outputs": [
    {
     "data": {
      "text/plain": [
       "<matplotlib.image.AxesImage at 0x295780806d8>"
      ]
     },
     "execution_count": 197,
     "metadata": {},
     "output_type": "execute_result"
    },
    {
     "data": {
      "image/png": "[encoded data removed]",
      "text/plain": [
       "<Figure size 432x288 with 1 Axes>"
      ]
     },
     "metadata": {
      "needs_background": "light"
     },
     "output_type": "display_data"
    }
   ],
   "source": [
    "a = Get_mask(points_list[0])\n",
    "plt.imshow(a[170:200,100:140])"
   ]
  },
  {
   "cell_type": "code",
   "execution_count": null,
   "metadata": {},
   "outputs": [],
   "source": []
  },
  {
   "cell_type": "code",
   "execution_count": 7,
   "metadata": {},
   "outputs": [],
   "source": [
    "from albumentations import Compose, RandomRotate90, Flip, Transpose, ShiftScaleRotate\n",
    "def strong_aug(p=0.5):\n",
    "    return Compose([\n",
    "        RandomRotate90(),\n",
    "        Flip(),\n",
    "        Transpose(),\n",
    "        ShiftScaleRotate(shift_limit=0.1, scale_limit=0.1, rotate_limit=45, p=0.5,border_mode=0,value=255),\n",
    "    ], p=p)\n",
    "\n",
    "class Images_Loader(torch.utils.data.Dataset):\n",
    "    def __init__(self,_images,_points):\n",
    "        super(Images_Loader, self).__init__()\n",
    "        self._images, self._points = _images, _points\n",
    "        self.transform = transforms.ToTensor()\n",
    "        \n",
    "    def __len__(self):\n",
    "        return len(self._images)\n",
    "    \n",
    "    def __getitem__(self, i):\n",
    "        _image = np.asarray(self._images[i])\n",
    "        _mask = Get_mask(self._points[i])\n",
    "        augmentation = strong_aug(p=0.9)\n",
    "        \n",
    "        data = {\"image\": _image, \"mask\": _mask}\n",
    "        augmented = augmentation(**data)\n",
    "        _image, _mask = self.transform(augmented[\"image\"]), self.transform(augmented[\"mask\"]).float()\n",
    "\n",
    "        return [_image, _mask]\n",
    "\n",
    "#Грузим датку, ставим размер картинок         !!!!!!!! добавить аугментацию !!!!!!!!!\n",
    "\n",
    "num_val = 10\n",
    "\n",
    "train_dataset = Images_Loader(images_list[:-num_val], points_list[:-num_val])\n",
    "val_dataset = Images_Loader(images_list[-num_val:], points_list[-num_val:])\n",
    "\n",
    "batch_size = 5\n",
    "\n",
    "dataloaders = {\n",
    "    'train': DataLoader(train_dataset, batch_size=batch_size, shuffle=True, num_workers=0),\n",
    "    'val': DataLoader(val_dataset, batch_size=batch_size, shuffle=True, num_workers=0)\n",
    "}\n",
    "\n"
   ]
  },
  {
   "cell_type": "code",
   "execution_count": 9,
   "metadata": {},
   "outputs": [],
   "source": [
    "# описание сети\n",
    "def dice_loss(pred, target, eps = 1e-10):\n",
    "    pred = pred.contiguous()\n",
    "    target = target.contiguous()    \n",
    "\n",
    "    intersection = (pred * target).sum(dim=2).sum(dim=2)\n",
    "    \n",
    "    loss = (1 - ((2. * intersection + eps) / (pred.sum(dim=2).sum(dim=2) + target.sum(dim=2).sum(dim=2) + eps)))\n",
    "    \n",
    "    return loss.mean()\n",
    "\n",
    "def calc_loss(pred, target, bce_weight=0.5):\n",
    "    bce = F.binary_cross_entropy_with_logits(pred, target)\n",
    "    \n",
    "    dice = dice_loss(pred, target)\n",
    "    \n",
    "    loss = bce * bce_weight + dice * (1 - bce_weight)\n",
    "    \n",
    "    return loss\n",
    "\n",
    "def _double_conv(in_ch, out_ch):\n",
    "    return nn.Sequential(\n",
    "        nn.Conv2d(in_ch, out_ch, 3, padding=1),\n",
    "        nn.BatchNorm2d(out_ch),\n",
    "        nn.ReLU(inplace=True),\n",
    "        nn.Conv2d(out_ch, out_ch, 3, padding=1),\n",
    "        nn.BatchNorm2d(out_ch),\n",
    "        nn.ReLU(inplace=True)\n",
    "    )\n",
    "\n",
    "\n",
    "def _down(in_ch, out_ch):\n",
    "    return nn.Sequential(\n",
    "        nn.MaxPool2d(2),\n",
    "        _double_conv(in_ch, out_ch)\n",
    "    )\n",
    "\n",
    "\n",
    "def _up(in_ch, out_ch):\n",
    "    return nn.Sequential(\n",
    "        _double_conv(in_ch, in_ch//2),\n",
    "        nn.ConvTranspose2d(in_ch//2, out_ch, 2, stride=2)  \n",
    "    )\n",
    "    \n",
    "\n",
    "class UNet(nn.Module):\n",
    "    def __init__(self):\n",
    "        super().__init__()\n",
    "        self.down0 = _double_conv(1, 64)\n",
    "        self.down1 = _down(64, 128)\n",
    "        self.down2 = _down(128, 256)\n",
    "        self.down3 = _down(256, 512)\n",
    "        self.down4 = _down(512, 1024)\n",
    "\n",
    "        self.up0 = nn.ConvTranspose2d(1024, 512, 2, stride=2)\n",
    "        self.up1 = _up(1024,256)\n",
    "        self.up2 = _up(512,128)\n",
    "        self.up3 = _up(256,64)\n",
    "        self.up4 = _double_conv(128, 64)\n",
    "        \n",
    "        self.conv_last = nn.Sequential(\n",
    "            nn.Conv2d(64, 1, 1), #in_channels, out_channels, kernel_size\n",
    "            nn.Sigmoid()\n",
    "        )\n",
    "        \n",
    "        \n",
    "    def forward(self, X):\n",
    "        down0 = self.down0(X)       #64\n",
    "        down1 = self.down1(down0)   #128\n",
    "        down2 = self.down2(down1)   #256\n",
    "        down3 = self.down3(down2)   #512\n",
    "        down4 = self.down4(down3)   #1024\n",
    "        \n",
    "        out = self.up0(down4)    #512\n",
    "        out = self.up1(torch.cat([out, down3], dim=1))\n",
    "        out = self.up2(torch.cat([out, down2], dim=1))\n",
    "        out = self.up3(torch.cat([out, down1], dim=1))    \n",
    "        out = self.up4(torch.cat([out, down0], dim=1))       #64\n",
    "        \n",
    "        out = self.conv_last(out)   #n_class\n",
    "        \n",
    "        return out\n",
    "    \n"
   ]
  },
  {
   "cell_type": "code",
   "execution_count": 3,
   "metadata": {
    "collapsed": true
   },
   "outputs": [
    {
     "name": "stdout",
     "output_type": "stream",
     "text": [
      "----------------------------------------------------------------\n",
      "        Layer (type)               Output Shape         Param #\n",
      "================================================================\n",
      "            Conv2d-1         [-1, 64, 400, 400]             640\n",
      "       BatchNorm2d-2         [-1, 64, 400, 400]             128\n",
      "              ReLU-3         [-1, 64, 400, 400]               0\n",
      "            Conv2d-4         [-1, 64, 400, 400]          36,928\n",
      "       BatchNorm2d-5         [-1, 64, 400, 400]             128\n",
      "              ReLU-6         [-1, 64, 400, 400]               0\n",
      "         MaxPool2d-7         [-1, 64, 200, 200]               0\n",
      "            Conv2d-8        [-1, 128, 200, 200]          73,856\n",
      "       BatchNorm2d-9        [-1, 128, 200, 200]             256\n",
      "             ReLU-10        [-1, 128, 200, 200]               0\n",
      "           Conv2d-11        [-1, 128, 200, 200]         147,584\n",
      "      BatchNorm2d-12        [-1, 128, 200, 200]             256\n",
      "             ReLU-13        [-1, 128, 200, 200]               0\n",
      "        MaxPool2d-14        [-1, 128, 100, 100]               0\n",
      "           Conv2d-15        [-1, 256, 100, 100]         295,168\n",
      "      BatchNorm2d-16        [-1, 256, 100, 100]             512\n",
      "             ReLU-17        [-1, 256, 100, 100]               0\n",
      "           Conv2d-18        [-1, 256, 100, 100]         590,080\n",
      "      BatchNorm2d-19        [-1, 256, 100, 100]             512\n",
      "             ReLU-20        [-1, 256, 100, 100]               0\n",
      "        MaxPool2d-21          [-1, 256, 50, 50]               0\n",
      "           Conv2d-22          [-1, 512, 50, 50]       1,180,160\n",
      "      BatchNorm2d-23          [-1, 512, 50, 50]           1,024\n",
      "             ReLU-24          [-1, 512, 50, 50]               0\n",
      "           Conv2d-25          [-1, 512, 50, 50]       2,359,808\n",
      "      BatchNorm2d-26          [-1, 512, 50, 50]           1,024\n",
      "             ReLU-27          [-1, 512, 50, 50]               0\n",
      "        MaxPool2d-28          [-1, 512, 25, 25]               0\n",
      "           Conv2d-29         [-1, 1024, 25, 25]       4,719,616\n",
      "      BatchNorm2d-30         [-1, 1024, 25, 25]           2,048\n",
      "             ReLU-31         [-1, 1024, 25, 25]               0\n",
      "           Conv2d-32         [-1, 1024, 25, 25]       9,438,208\n",
      "      BatchNorm2d-33         [-1, 1024, 25, 25]           2,048\n",
      "             ReLU-34         [-1, 1024, 25, 25]               0\n",
      "  ConvTranspose2d-35          [-1, 512, 50, 50]       2,097,664\n",
      "           Conv2d-36          [-1, 512, 50, 50]       4,719,104\n",
      "      BatchNorm2d-37          [-1, 512, 50, 50]           1,024\n",
      "             ReLU-38          [-1, 512, 50, 50]               0\n",
      "           Conv2d-39          [-1, 512, 50, 50]       2,359,808\n",
      "      BatchNorm2d-40          [-1, 512, 50, 50]           1,024\n",
      "             ReLU-41          [-1, 512, 50, 50]               0\n",
      "  ConvTranspose2d-42        [-1, 256, 100, 100]         524,544\n",
      "           Conv2d-43        [-1, 256, 100, 100]       1,179,904\n",
      "      BatchNorm2d-44        [-1, 256, 100, 100]             512\n",
      "             ReLU-45        [-1, 256, 100, 100]               0\n",
      "           Conv2d-46        [-1, 256, 100, 100]         590,080\n",
      "      BatchNorm2d-47        [-1, 256, 100, 100]             512\n",
      "             ReLU-48        [-1, 256, 100, 100]               0\n",
      "  ConvTranspose2d-49        [-1, 128, 200, 200]         131,200\n",
      "           Conv2d-50        [-1, 128, 200, 200]         295,040\n",
      "      BatchNorm2d-51        [-1, 128, 200, 200]             256\n",
      "             ReLU-52        [-1, 128, 200, 200]               0\n",
      "           Conv2d-53        [-1, 128, 200, 200]         147,584\n",
      "      BatchNorm2d-54        [-1, 128, 200, 200]             256\n",
      "             ReLU-55        [-1, 128, 200, 200]               0\n",
      "  ConvTranspose2d-56         [-1, 64, 400, 400]          32,832\n",
      "           Conv2d-57         [-1, 64, 400, 400]          73,792\n",
      "      BatchNorm2d-58         [-1, 64, 400, 400]             128\n",
      "             ReLU-59         [-1, 64, 400, 400]               0\n",
      "           Conv2d-60         [-1, 64, 400, 400]          36,928\n",
      "      BatchNorm2d-61         [-1, 64, 400, 400]             128\n",
      "             ReLU-62         [-1, 64, 400, 400]               0\n",
      "           Conv2d-63          [-1, 1, 400, 400]              65\n",
      "          Sigmoid-64          [-1, 1, 400, 400]               0\n",
      "================================================================\n",
      "Total params: 31,042,369\n",
      "Trainable params: 31,042,369\n",
      "Non-trainable params: 0\n",
      "----------------------------------------------------------------\n",
      "Input size (MB): 0.61\n",
      "Forward/backward pass size (MB): 1972.66\n",
      "Params size (MB): 118.42\n",
      "Estimated Total Size (MB): 2091.68\n",
      "----------------------------------------------------------------\n"
     ]
    }
   ],
   "source": [
    "from torchsummary import summary\n",
    "model = UNet().cuda()\n",
    "summary(model, input_size=(1,400,400))"
   ]
  },
  {
   "cell_type": "code",
   "execution_count": 10,
   "metadata": {},
   "outputs": [
    {
     "name": "stdout",
     "output_type": "stream",
     "text": [
      "weights loaded\n",
      "cuda:0\n"
     ]
    }
   ],
   "source": [
    "#грузим модель\n",
    "model = UNet().cuda()\n",
    "try:\n",
    "    model.load_state_dict(torch.load('model_last.pt'))#, strict=False)\n",
    "    print('weights loaded')\n",
    "except:\n",
    "    print('creating new NN')\n",
    "#optimizer = optim.Adam(model.parameters(), lr=1e-3)\n",
    "device = torch.device(\"cuda:0\" if torch.cuda.is_available() else \"cpu\")\n",
    "print(device)\n"
   ]
  },
  {
   "cell_type": "code",
   "execution_count": 13,
   "metadata": {
    "scrolled": true
   },
   "outputs": [
    {
     "name": "stdout",
     "output_type": "stream",
     "text": [
      "------------------------------\n",
      "Epoch 0/59\n",
      "------------------------------\n"
     ]
    },
    {
     "ename": "KeyboardInterrupt",
     "evalue": "",
     "output_type": "error",
     "traceback": [
      "\u001b[1;31m---------------------------------------------------------------------------\u001b[0m",
      "\u001b[1;31mKeyboardInterrupt\u001b[0m                         Traceback (most recent call last)",
      "\u001b[1;32m<ipython-input-13-7cf591e7ce22>\u001b[0m in \u001b[0;36m<module>\u001b[1;34m\u001b[0m\n\u001b[0;32m     26\u001b[0m                 \u001b[1;32mwith\u001b[0m \u001b[0mtorch\u001b[0m\u001b[1;33m.\u001b[0m\u001b[0mset_grad_enabled\u001b[0m\u001b[1;33m(\u001b[0m\u001b[1;32mTrue\u001b[0m\u001b[1;33m)\u001b[0m\u001b[1;33m:\u001b[0m\u001b[1;33m\u001b[0m\u001b[1;33m\u001b[0m\u001b[0m\n\u001b[0;32m     27\u001b[0m                     \u001b[0moutputs\u001b[0m \u001b[1;33m=\u001b[0m \u001b[0mmodel\u001b[0m\u001b[1;33m(\u001b[0m\u001b[0minputs\u001b[0m\u001b[1;33m)\u001b[0m\u001b[1;33m\u001b[0m\u001b[1;33m\u001b[0m\u001b[0m\n\u001b[1;32m---> 28\u001b[1;33m                     \u001b[0mloss\u001b[0m \u001b[1;33m=\u001b[0m \u001b[0mcriterion\u001b[0m\u001b[1;33m(\u001b[0m\u001b[0moutputs\u001b[0m\u001b[1;33m,\u001b[0m \u001b[0mtrue_outputs\u001b[0m\u001b[1;33m)\u001b[0m\u001b[1;33m\u001b[0m\u001b[1;33m\u001b[0m\u001b[0m\n\u001b[0m\u001b[0;32m     29\u001b[0m                     \u001b[1;32mif\u001b[0m \u001b[0mphase\u001b[0m \u001b[1;33m==\u001b[0m \u001b[1;34m'train'\u001b[0m\u001b[1;33m:\u001b[0m\u001b[1;33m\u001b[0m\u001b[1;33m\u001b[0m\u001b[0m\n\u001b[0;32m     30\u001b[0m                         \u001b[0mloss\u001b[0m\u001b[1;33m.\u001b[0m\u001b[0mbackward\u001b[0m\u001b[1;33m(\u001b[0m\u001b[1;33m)\u001b[0m\u001b[1;33m\u001b[0m\u001b[1;33m\u001b[0m\u001b[0m\n",
      "\u001b[1;32mc:\\python37\\lib\\site-packages\\torch\\nn\\modules\\module.py\u001b[0m in \u001b[0;36m__call__\u001b[1;34m(self, *input, **kwargs)\u001b[0m\n\u001b[0;32m    545\u001b[0m             \u001b[0mresult\u001b[0m \u001b[1;33m=\u001b[0m \u001b[0mself\u001b[0m\u001b[1;33m.\u001b[0m\u001b[0m_slow_forward\u001b[0m\u001b[1;33m(\u001b[0m\u001b[1;33m*\u001b[0m\u001b[0minput\u001b[0m\u001b[1;33m,\u001b[0m \u001b[1;33m**\u001b[0m\u001b[0mkwargs\u001b[0m\u001b[1;33m)\u001b[0m\u001b[1;33m\u001b[0m\u001b[1;33m\u001b[0m\u001b[0m\n\u001b[0;32m    546\u001b[0m         \u001b[1;32melse\u001b[0m\u001b[1;33m:\u001b[0m\u001b[1;33m\u001b[0m\u001b[1;33m\u001b[0m\u001b[0m\n\u001b[1;32m--> 547\u001b[1;33m             \u001b[0mresult\u001b[0m \u001b[1;33m=\u001b[0m \u001b[0mself\u001b[0m\u001b[1;33m.\u001b[0m\u001b[0mforward\u001b[0m\u001b[1;33m(\u001b[0m\u001b[1;33m*\u001b[0m\u001b[0minput\u001b[0m\u001b[1;33m,\u001b[0m \u001b[1;33m**\u001b[0m\u001b[0mkwargs\u001b[0m\u001b[1;33m)\u001b[0m\u001b[1;33m\u001b[0m\u001b[1;33m\u001b[0m\u001b[0m\n\u001b[0m\u001b[0;32m    548\u001b[0m         \u001b[1;32mfor\u001b[0m \u001b[0mhook\u001b[0m \u001b[1;32min\u001b[0m \u001b[0mself\u001b[0m\u001b[1;33m.\u001b[0m\u001b[0m_forward_hooks\u001b[0m\u001b[1;33m.\u001b[0m\u001b[0mvalues\u001b[0m\u001b[1;33m(\u001b[0m\u001b[1;33m)\u001b[0m\u001b[1;33m:\u001b[0m\u001b[1;33m\u001b[0m\u001b[1;33m\u001b[0m\u001b[0m\n\u001b[0;32m    549\u001b[0m             \u001b[0mhook_result\u001b[0m \u001b[1;33m=\u001b[0m \u001b[0mhook\u001b[0m\u001b[1;33m(\u001b[0m\u001b[0mself\u001b[0m\u001b[1;33m,\u001b[0m \u001b[0minput\u001b[0m\u001b[1;33m,\u001b[0m \u001b[0mresult\u001b[0m\u001b[1;33m)\u001b[0m\u001b[1;33m\u001b[0m\u001b[1;33m\u001b[0m\u001b[0m\n",
      "\u001b[1;32mc:\\python37\\lib\\site-packages\\torch\\nn\\modules\\loss.py\u001b[0m in \u001b[0;36mforward\u001b[1;34m(self, input, target)\u001b[0m\n\u001b[0;32m    496\u001b[0m \u001b[1;33m\u001b[0m\u001b[0m\n\u001b[0;32m    497\u001b[0m     \u001b[1;32mdef\u001b[0m \u001b[0mforward\u001b[0m\u001b[1;33m(\u001b[0m\u001b[0mself\u001b[0m\u001b[1;33m,\u001b[0m \u001b[0minput\u001b[0m\u001b[1;33m,\u001b[0m \u001b[0mtarget\u001b[0m\u001b[1;33m)\u001b[0m\u001b[1;33m:\u001b[0m\u001b[1;33m\u001b[0m\u001b[1;33m\u001b[0m\u001b[0m\n\u001b[1;32m--> 498\u001b[1;33m         \u001b[1;32mreturn\u001b[0m \u001b[0mF\u001b[0m\u001b[1;33m.\u001b[0m\u001b[0mbinary_cross_entropy\u001b[0m\u001b[1;33m(\u001b[0m\u001b[0minput\u001b[0m\u001b[1;33m,\u001b[0m \u001b[0mtarget\u001b[0m\u001b[1;33m,\u001b[0m \u001b[0mweight\u001b[0m\u001b[1;33m=\u001b[0m\u001b[0mself\u001b[0m\u001b[1;33m.\u001b[0m\u001b[0mweight\u001b[0m\u001b[1;33m,\u001b[0m \u001b[0mreduction\u001b[0m\u001b[1;33m=\u001b[0m\u001b[0mself\u001b[0m\u001b[1;33m.\u001b[0m\u001b[0mreduction\u001b[0m\u001b[1;33m)\u001b[0m\u001b[1;33m\u001b[0m\u001b[1;33m\u001b[0m\u001b[0m\n\u001b[0m\u001b[0;32m    499\u001b[0m \u001b[1;33m\u001b[0m\u001b[0m\n\u001b[0;32m    500\u001b[0m \u001b[1;33m\u001b[0m\u001b[0m\n",
      "\u001b[1;32mc:\\python37\\lib\\site-packages\\torch\\nn\\functional.py\u001b[0m in \u001b[0;36mbinary_cross_entropy\u001b[1;34m(input, target, weight, size_average, reduce, reduction)\u001b[0m\n\u001b[0;32m   2049\u001b[0m \u001b[1;33m\u001b[0m\u001b[0m\n\u001b[0;32m   2050\u001b[0m     return torch._C._nn.binary_cross_entropy(\n\u001b[1;32m-> 2051\u001b[1;33m         input, target, weight, reduction_enum)\n\u001b[0m\u001b[0;32m   2052\u001b[0m \u001b[1;33m\u001b[0m\u001b[0m\n\u001b[0;32m   2053\u001b[0m \u001b[1;33m\u001b[0m\u001b[0m\n",
      "\u001b[1;31mKeyboardInterrupt\u001b[0m: "
     ]
    }
   ],
   "source": [
    "#обучение\n",
    "#optimizer = optim.SGD(model.parameters(),lr=0.1,momentum=0.9,weight_decay=1e-4)\n",
    "optimizer = optim.Adam(model.parameters(), lr=0.1)\n",
    "criterion = nn.BCELoss()\n",
    "num_epochs = 60\n",
    "\n",
    "best_loss = 1\n",
    "loss_list = []\n",
    "for epoch in range(num_epochs):\n",
    "    print('-' * 30)\n",
    "    print('Epoch {}/{}'.format(epoch, num_epochs - 1))\n",
    "    print('-' * 30)\n",
    "    since = time.time()\n",
    "\n",
    "    # Each epoch has a training and validation phase\n",
    "    for phase in ['train', 'val']:\n",
    "        if phase == 'train':\n",
    "            model.train()\n",
    "\n",
    "            #for inputs, true_outputs in tqdm(dataloaders[phase], total=len(dataloaders[phase])):\n",
    "            for inputs, true_outputs in dataloaders[phase]:  \n",
    "                inputs,true_outputs = inputs.cuda(),true_outputs.cuda()      \n",
    "                optimizer.zero_grad()\n",
    "                # forward\n",
    "                # track history if only in train\n",
    "                with torch.set_grad_enabled(True):\n",
    "                    outputs = model(inputs)\n",
    "                    loss = criterion(outputs, true_outputs)\n",
    "                    if phase == 'train':\n",
    "                        loss.backward()\n",
    "                        optimizer.step()\n",
    "        else:\n",
    "            model.eval() \n",
    "\n",
    "            epoch_samples = 0\n",
    "            epoch_loss = 0\n",
    "            #for inputs, true_outputs in tqdm(dataloaders[phase], total=len(dataloaders[phase])):\n",
    "            for inputs, true_outputs in dataloaders[phase]:\n",
    "                inputs,true_outputs = inputs.cuda(),true_outputs.cuda()\n",
    "                optimizer.zero_grad()\n",
    "                # forward\n",
    "                # track history if only in train\n",
    "                with torch.set_grad_enabled(False):\n",
    "                    outputs = model(inputs)\n",
    "                    loss = criterion(outputs, true_outputs)\n",
    "\n",
    "                # statistics\n",
    "                epoch_loss += loss.item()\n",
    "                epoch_samples += 1\n",
    "                    \n",
    "            epoch_loss = epoch_loss/epoch_samples\n",
    "            print(f'loss = {epoch_loss}')\n",
    "            loss_list.append(epoch_loss)\n",
    "\n",
    "        if phase == 'val' and epoch_loss < best_loss:\n",
    "            print(\"saving best model\")\n",
    "            best_loss = epoch_loss\n",
    "            torch.save(model.state_dict(), 'model_0.pt')\n",
    "\n",
    "    time_elapsed = time.time() - since\n",
    "    print('{:.0f}m {:.0f}s'.format(time_elapsed // 60, time_elapsed % 60))\n",
    "print('Best val loss: {:4f}'.format(best_loss))"
   ]
  },
  {
   "cell_type": "code",
   "execution_count": 33,
   "metadata": {},
   "outputs": [],
   "source": [
    "#torch.save(model.state_dict(), 'model_last.pt')"
   ]
  },
  {
   "cell_type": "code",
   "execution_count": 11,
   "metadata": {},
   "outputs": [
    {
     "data": {
      "text/plain": [
       "[<matplotlib.lines.Line2D at 0x1c102aa80f0>]"
      ]
     },
     "execution_count": 11,
     "metadata": {},
     "output_type": "execute_result"
    },
    {
     "data": {
      "image/png": "[encoded data removed]",
      "text/plain": [
       "<Figure size 432x288 with 1 Axes>"
      ]
     },
     "metadata": {
      "needs_background": "light"
     },
     "output_type": "display_data"
    }
   ],
   "source": [
    "x = loss_list\n",
    "plt.plot(x)"
   ]
  },
  {
   "cell_type": "code",
   "execution_count": 79,
   "metadata": {},
   "outputs": [],
   "source": [
    "def get_predicted_points(image):\n",
    "    img = image.copy()\n",
    "    # https://stackoverflow.com/questions/46441893/connected-component-labeling-in-python\n",
    "    img[img<img.max()-0.3] = 0\n",
    "    img = (img/img.max()*255).astype(np.uint8)\n",
    "\n",
    "    img = cv2.threshold(img, 127, 255, cv2.THRESH_BINARY)[1]  # ensure binary\n",
    "    ret, labels = cv2.connectedComponents(img)\n",
    "    predicted_points = []\n",
    "    for i in range(1,ret+1):\n",
    "        dots = np.argwhere(labels==i)\n",
    "        N = dots.shape[0]\n",
    "        if N>=4: #если  \"кучка точек состоит из более чем 4 пикселей\"\n",
    "            coord = (dots.sum(axis=0)/N).astype(int)\n",
    "            predicted_points.append(coord)\n",
    "    return np.array(predicted_points)"
   ]
  },
  {
   "cell_type": "code",
   "execution_count": 183,
   "metadata": {},
   "outputs": [],
   "source": [
    "def Get_predict(i):\n",
    "    image_arr = np.array(images_list[i])\n",
    "    inputs = image_arr.reshape(400,400,1,1).transpose(2,3,0,1)\n",
    "    inputs = torch.from_numpy(inputs).float().cuda()\n",
    "\n",
    "    true_mask = Get_mask(points_list[i])\n",
    "    pred_mask = model(inputs).cpu().data.numpy()[0,0]\n",
    "\n",
    "    points_pred = get_predicted_points(pred_mask) # Y, X (в датасете наоборот)\n",
    "    return points_pred,true_mask,pred_mask"
   ]
  },
  {
   "cell_type": "code",
   "execution_count": 186,
   "metadata": {},
   "outputs": [
    {
     "data": {
      "image/png": "[encoded data removed]",
      "text/plain": [
       "<Figure size 720x720 with 2 Axes>"
      ]
     },
     "metadata": {
      "needs_background": "light"
     },
     "output_type": "display_data"
    }
   ],
   "source": [
    "points_pred,true_mask,pred_mask = Get_predict(10)\n",
    "plt.figure(figsize=(10,10))\n",
    "plt.subplot(1,2,1)\n",
    "plt.title('true mask')\n",
    "plt.imshow(true_mask)\n",
    "plt.subplot(1,2,2)\n",
    "plt.title('pred mask')\n",
    "plt.imshow(pred_mask)\n",
    "\n",
    "plt.savefig('true_predicted.png')"
   ]
  },
  {
   "cell_type": "code",
   "execution_count": 192,
   "metadata": {},
   "outputs": [
    {
     "data": {
      "application/vnd.jupyter.widget-view+json": {
       "model_id": "7f628afada6f4fb6b6bc311ff654a7ec",
       "version_major": 2,
       "version_minor": 0
      },
      "text/plain": [
       "interactive(children=(IntSlider(value=1, description='i', max=4066), IntSlider(value=1, description='pred_flag…"
      ]
     },
     "metadata": {},
     "output_type": "display_data"
    }
   ],
   "source": [
    "#look images with points\n",
    "@interact(i=(0,len(images_list)-1,1),pred_flag=(0,1,1), true_flag=(0,1,1))\n",
    "def test_func(i=1,pred_flag=1,true_flag=1):\n",
    "    points_pred, _, _ = Get_predict(i)\n",
    "    \n",
    "    img = np.array(images_list[i])\n",
    "    points_true = points_list[i]\n",
    "    \n",
    "    a=np.tile(img,(3,1,1))\n",
    "    a=np.moveaxis(a, 0, -1)\n",
    "    if true_flag:\n",
    "        for point in points_true:\n",
    "            x,y = point\n",
    "            a[y-4:y+5,x-4:x+5][:,:,0] = 255\n",
    "    if pred_flag:\n",
    "        for point in points_pred:\n",
    "            y,x = point\n",
    "            a[y-4:y+5,x-4:x+5][:,:,1] = 255\n",
    "        \n",
    "    print(img.shape)\n",
    "    plt.figure(figsize=[10,10])\n",
    "    plt.imshow(a)"
   ]
  }
 ],
 "metadata": {
  "kernelspec": {
   "display_name": "Python 3",
   "language": "python",
   "name": "python3"
  },
  "language_info": {
   "codemirror_mode": {
    "name": "ipython",
    "version": 3
   },
   "file_extension": ".py",
   "mimetype": "text/x-python",
   "name": "python",
   "nbconvert_exporter": "python",
   "pygments_lexer": "ipython3",
   "version": "3.7.3"
  }
 },
 "nbformat": 4,
 "nbformat_minor": 2
}
